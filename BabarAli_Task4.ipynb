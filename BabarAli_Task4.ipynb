{
 "cells": [
  {
   "cell_type": "markdown",
   "id": "b5c73a00-1fca-4701-9d42-df1539c74101",
   "metadata": {},
   "source": [
    "# The Spark Foundation"
   ]
  },
  {
   "cell_type": "markdown",
   "id": "d822c218-28ab-4347-9a2d-7f4e9a66f981",
   "metadata": {
    "slideshow": {
     "slide_type": "subslide"
    },
    "tags": []
   },
   "source": [
    "### DATA SCIENCE & BUSINESS ANALYTICS INTERNSHIP"
   ]
  },
  {
   "cell_type": "markdown",
   "id": "8fb347e8-fe8b-49a6-ac65-f993bbb46aba",
   "metadata": {},
   "source": [
    "#### TASK 5"
   ]
  },
  {
   "cell_type": "markdown",
   "id": "fb1b18fb-9b89-44d7-a8bf-8920b27682be",
   "metadata": {},
   "source": [
    "# Exploratory Data Analysis -Sports"
   ]
  },
  {
   "cell_type": "markdown",
   "id": "bd6c8670-ee5c-49ee-9657-a7bcab6109ad",
   "metadata": {},
   "source": [
    "### level Advanced"
   ]
  },
  {
   "cell_type": "markdown",
   "id": "08d802cb-cdd7-49e7-bdfe-5f501375ba07",
   "metadata": {},
   "source": [
    "#### Find out the most successful team ,player and factors contributing win or loss of a team.\n",
    "#### Suggest teams or players a company  should endorse for its products "
   ]
  },
  {
   "cell_type": "code",
   "execution_count": null,
   "id": "d5d06abe-c86c-4f1c-9e8b-608348146baf",
   "metadata": {},
   "outputs": [],
   "source": [
    "## import libraries for analysis of Dataset"
   ]
  },
  {
   "cell_type": "code",
   "execution_count": 1,
   "id": "b1115c22-4946-4cc4-a42d-308a3dade33f",
   "metadata": {},
   "outputs": [],
   "source": [
    "import pandas as pd\n",
    "import numpy as np\n",
    "import seaborn as sns\n",
    "import matplotlib.pyplot as plt"
   ]
  },
  {
   "cell_type": "code",
   "execution_count": null,
   "id": "c6ae538c-d3ee-44b5-bb35-a6fa9cdc7b86",
   "metadata": {},
   "outputs": [],
   "source": [
    "## read the deliveries dataset by using pandas dataframe"
   ]
  },
  {
   "cell_type": "code",
   "execution_count": 2,
   "id": "14d3306f-2a4a-4626-8a72-cdb7436ec8e5",
   "metadata": {},
   "outputs": [],
   "source": [
    "data=pd.read_csv(r'E:\\Career\\Data Science\\intership\\task5\\deliveries.csv')"
   ]
  },
  {
   "cell_type": "code",
   "execution_count": null,
   "id": "737c9bf8-7da3-4a3b-a4b0-0a07d0fa509d",
   "metadata": {},
   "outputs": [],
   "source": [
    "## read the matches dataset by using pandas dataframe"
   ]
  },
  {
   "cell_type": "code",
   "execution_count": 3,
   "id": "0a1af64b-372b-4621-9d8b-9c9adc897d70",
   "metadata": {},
   "outputs": [],
   "source": [
    "data2=pd.read_csv(r'E:\\Career\\Data Science\\intership\\task5\\matches.csv')"
   ]
  },
  {
   "cell_type": "code",
   "execution_count": 4,
   "id": "38a56a93-7b1b-4e68-9d3d-02af6dfcb19f",
   "metadata": {},
   "outputs": [
    {
     "data": {
      "text/html": [
       "<div>\n",
       "<style scoped>\n",
       "    .dataframe tbody tr th:only-of-type {\n",
       "        vertical-align: middle;\n",
       "    }\n",
       "\n",
       "    .dataframe tbody tr th {\n",
       "        vertical-align: top;\n",
       "    }\n",
       "\n",
       "    .dataframe thead th {\n",
       "        text-align: right;\n",
       "    }\n",
       "</style>\n",
       "<table border=\"1\" class=\"dataframe\">\n",
       "  <thead>\n",
       "    <tr style=\"text-align: right;\">\n",
       "      <th></th>\n",
       "      <th>match_id</th>\n",
       "      <th>inning</th>\n",
       "      <th>batting_team</th>\n",
       "      <th>bowling_team</th>\n",
       "      <th>over</th>\n",
       "      <th>ball</th>\n",
       "      <th>batsman</th>\n",
       "      <th>non_striker</th>\n",
       "      <th>bowler</th>\n",
       "      <th>is_super_over</th>\n",
       "      <th>...</th>\n",
       "      <th>bye_runs</th>\n",
       "      <th>legbye_runs</th>\n",
       "      <th>noball_runs</th>\n",
       "      <th>penalty_runs</th>\n",
       "      <th>batsman_runs</th>\n",
       "      <th>extra_runs</th>\n",
       "      <th>total_runs</th>\n",
       "      <th>player_dismissed</th>\n",
       "      <th>dismissal_kind</th>\n",
       "      <th>fielder</th>\n",
       "    </tr>\n",
       "  </thead>\n",
       "  <tbody>\n",
       "    <tr>\n",
       "      <th>0</th>\n",
       "      <td>1</td>\n",
       "      <td>1</td>\n",
       "      <td>Sunrisers Hyderabad</td>\n",
       "      <td>Royal Challengers Bangalore</td>\n",
       "      <td>1</td>\n",
       "      <td>1</td>\n",
       "      <td>DA Warner</td>\n",
       "      <td>S Dhawan</td>\n",
       "      <td>TS Mills</td>\n",
       "      <td>0</td>\n",
       "      <td>...</td>\n",
       "      <td>0</td>\n",
       "      <td>0</td>\n",
       "      <td>0</td>\n",
       "      <td>0</td>\n",
       "      <td>0</td>\n",
       "      <td>0</td>\n",
       "      <td>0</td>\n",
       "      <td>NaN</td>\n",
       "      <td>NaN</td>\n",
       "      <td>NaN</td>\n",
       "    </tr>\n",
       "    <tr>\n",
       "      <th>1</th>\n",
       "      <td>1</td>\n",
       "      <td>1</td>\n",
       "      <td>Sunrisers Hyderabad</td>\n",
       "      <td>Royal Challengers Bangalore</td>\n",
       "      <td>1</td>\n",
       "      <td>2</td>\n",
       "      <td>DA Warner</td>\n",
       "      <td>S Dhawan</td>\n",
       "      <td>TS Mills</td>\n",
       "      <td>0</td>\n",
       "      <td>...</td>\n",
       "      <td>0</td>\n",
       "      <td>0</td>\n",
       "      <td>0</td>\n",
       "      <td>0</td>\n",
       "      <td>0</td>\n",
       "      <td>0</td>\n",
       "      <td>0</td>\n",
       "      <td>NaN</td>\n",
       "      <td>NaN</td>\n",
       "      <td>NaN</td>\n",
       "    </tr>\n",
       "  </tbody>\n",
       "</table>\n",
       "<p>2 rows × 21 columns</p>\n",
       "</div>"
      ],
      "text/plain": [
       "   match_id  inning         batting_team                 bowling_team  over  \\\n",
       "0         1       1  Sunrisers Hyderabad  Royal Challengers Bangalore     1   \n",
       "1         1       1  Sunrisers Hyderabad  Royal Challengers Bangalore     1   \n",
       "\n",
       "   ball    batsman non_striker    bowler  is_super_over  ...  bye_runs  \\\n",
       "0     1  DA Warner    S Dhawan  TS Mills              0  ...         0   \n",
       "1     2  DA Warner    S Dhawan  TS Mills              0  ...         0   \n",
       "\n",
       "   legbye_runs  noball_runs  penalty_runs  batsman_runs  extra_runs  \\\n",
       "0            0            0             0             0           0   \n",
       "1            0            0             0             0           0   \n",
       "\n",
       "   total_runs  player_dismissed dismissal_kind fielder  \n",
       "0           0               NaN            NaN     NaN  \n",
       "1           0               NaN            NaN     NaN  \n",
       "\n",
       "[2 rows x 21 columns]"
      ]
     },
     "execution_count": 4,
     "metadata": {},
     "output_type": "execute_result"
    }
   ],
   "source": [
    "data.head(2)"
   ]
  },
  {
   "cell_type": "code",
   "execution_count": 5,
   "id": "7948148c-d351-4d55-b583-eb0eb2943b4c",
   "metadata": {},
   "outputs": [
    {
     "data": {
      "text/html": [
       "<div>\n",
       "<style scoped>\n",
       "    .dataframe tbody tr th:only-of-type {\n",
       "        vertical-align: middle;\n",
       "    }\n",
       "\n",
       "    .dataframe tbody tr th {\n",
       "        vertical-align: top;\n",
       "    }\n",
       "\n",
       "    .dataframe thead th {\n",
       "        text-align: right;\n",
       "    }\n",
       "</style>\n",
       "<table border=\"1\" class=\"dataframe\">\n",
       "  <thead>\n",
       "    <tr style=\"text-align: right;\">\n",
       "      <th></th>\n",
       "      <th>id</th>\n",
       "      <th>season</th>\n",
       "      <th>city</th>\n",
       "      <th>date</th>\n",
       "      <th>team1</th>\n",
       "      <th>team2</th>\n",
       "      <th>toss_winner</th>\n",
       "      <th>toss_decision</th>\n",
       "      <th>result</th>\n",
       "      <th>dl_applied</th>\n",
       "      <th>winner</th>\n",
       "      <th>win_by_runs</th>\n",
       "      <th>win_by_wickets</th>\n",
       "      <th>player_of_match</th>\n",
       "      <th>venue</th>\n",
       "      <th>umpire1</th>\n",
       "      <th>umpire2</th>\n",
       "      <th>umpire3</th>\n",
       "    </tr>\n",
       "  </thead>\n",
       "  <tbody>\n",
       "    <tr>\n",
       "      <th>0</th>\n",
       "      <td>1</td>\n",
       "      <td>2017</td>\n",
       "      <td>Hyderabad</td>\n",
       "      <td>2017-04-05</td>\n",
       "      <td>Sunrisers Hyderabad</td>\n",
       "      <td>Royal Challengers Bangalore</td>\n",
       "      <td>Royal Challengers Bangalore</td>\n",
       "      <td>field</td>\n",
       "      <td>normal</td>\n",
       "      <td>0</td>\n",
       "      <td>Sunrisers Hyderabad</td>\n",
       "      <td>35</td>\n",
       "      <td>0</td>\n",
       "      <td>Yuvraj Singh</td>\n",
       "      <td>Rajiv Gandhi International Stadium, Uppal</td>\n",
       "      <td>AY Dandekar</td>\n",
       "      <td>NJ Llong</td>\n",
       "      <td>NaN</td>\n",
       "    </tr>\n",
       "  </tbody>\n",
       "</table>\n",
       "</div>"
      ],
      "text/plain": [
       "   id  season       city        date                team1  \\\n",
       "0   1    2017  Hyderabad  2017-04-05  Sunrisers Hyderabad   \n",
       "\n",
       "                         team2                  toss_winner toss_decision  \\\n",
       "0  Royal Challengers Bangalore  Royal Challengers Bangalore         field   \n",
       "\n",
       "   result  dl_applied               winner  win_by_runs  win_by_wickets  \\\n",
       "0  normal           0  Sunrisers Hyderabad           35               0   \n",
       "\n",
       "  player_of_match                                      venue      umpire1  \\\n",
       "0    Yuvraj Singh  Rajiv Gandhi International Stadium, Uppal  AY Dandekar   \n",
       "\n",
       "    umpire2 umpire3  \n",
       "0  NJ Llong     NaN  "
      ]
     },
     "execution_count": 5,
     "metadata": {},
     "output_type": "execute_result"
    }
   ],
   "source": [
    "data2.head(1)"
   ]
  },
  {
   "cell_type": "code",
   "execution_count": 10,
   "id": "b0a68a33-8742-47d2-b2b7-4fa5d26eafc5",
   "metadata": {},
   "outputs": [
    {
     "name": "stdout",
     "output_type": "stream",
     "text": [
      "(179078, 21)\n"
     ]
    },
    {
     "data": {
      "text/plain": [
       "(756, 18)"
      ]
     },
     "execution_count": 10,
     "metadata": {},
     "output_type": "execute_result"
    }
   ],
   "source": [
    "print(data.shape)   ## for diliveries datset\n",
    "data2.shape        ## for matches dataset"
   ]
  },
  {
   "cell_type": "markdown",
   "id": "7a96c93d-9034-4351-94c0-9332eddda18d",
   "metadata": {},
   "source": [
    "##### 'dtypes' it show data type of each coloum"
   ]
  },
  {
   "cell_type": "code",
   "execution_count": 11,
   "id": "911faec1-12ff-4927-94ea-ecc2ac2b2d8e",
   "metadata": {},
   "outputs": [
    {
     "name": "stdout",
     "output_type": "stream",
     "text": [
      "match_id             int64\n",
      "inning               int64\n",
      "batting_team        object\n",
      "bowling_team        object\n",
      "over                 int64\n",
      "ball                 int64\n",
      "batsman             object\n",
      "non_striker         object\n",
      "bowler              object\n",
      "is_super_over        int64\n",
      "wide_runs            int64\n",
      "bye_runs             int64\n",
      "legbye_runs          int64\n",
      "noball_runs          int64\n",
      "penalty_runs         int64\n",
      "batsman_runs         int64\n",
      "extra_runs           int64\n",
      "total_runs           int64\n",
      "player_dismissed    object\n",
      "dismissal_kind      object\n",
      "fielder             object\n",
      "dtype: object\n"
     ]
    },
    {
     "data": {
      "text/plain": [
       "id                  int64\n",
       "season              int64\n",
       "city               object\n",
       "date               object\n",
       "team1              object\n",
       "team2              object\n",
       "toss_winner        object\n",
       "toss_decision      object\n",
       "result             object\n",
       "dl_applied          int64\n",
       "winner             object\n",
       "win_by_runs         int64\n",
       "win_by_wickets      int64\n",
       "player_of_match    object\n",
       "venue              object\n",
       "umpire1            object\n",
       "umpire2            object\n",
       "umpire3            object\n",
       "dtype: object"
      ]
     },
     "execution_count": 11,
     "metadata": {},
     "output_type": "execute_result"
    }
   ],
   "source": [
    "print(data.dtypes)\n",
    "data2.dtypes"
   ]
  },
  {
   "cell_type": "code",
   "execution_count": 1,
   "id": "7d8854e2-0381-493d-b8d4-fd79910f2d8d",
   "metadata": {},
   "outputs": [],
   "source": [
    "#### merge both dataset dilivery and matches"
   ]
  },
  {
   "cell_type": "code",
   "execution_count": 13,
   "id": "7fcc10c8-bd9f-4201-9255-07a6901c9710",
   "metadata": {},
   "outputs": [
    {
     "data": {
      "text/plain": [
       "Index(['match_id', 'inning', 'batting_team', 'bowling_team', 'over', 'ball',\n",
       "       'batsman', 'non_striker', 'bowler', 'is_super_over', 'wide_runs',\n",
       "       'bye_runs', 'legbye_runs', 'noball_runs', 'penalty_runs',\n",
       "       'batsman_runs', 'extra_runs', 'total_runs', 'player_dismissed',\n",
       "       'dismissal_kind', 'fielder'],\n",
       "      dtype='object')"
      ]
     },
     "execution_count": 13,
     "metadata": {},
     "output_type": "execute_result"
    }
   ],
   "source": [
    "data.columns"
   ]
  },
  {
   "cell_type": "code",
   "execution_count": 14,
   "id": "e2817d07-c90d-4c5f-95b0-898ab0ceaedb",
   "metadata": {},
   "outputs": [
    {
     "data": {
      "text/plain": [
       "Index(['id', 'season', 'city', 'date', 'team1', 'team2', 'toss_winner',\n",
       "       'toss_decision', 'result', 'dl_applied', 'winner', 'win_by_runs',\n",
       "       'win_by_wickets', 'player_of_match', 'venue', 'umpire1', 'umpire2',\n",
       "       'umpire3'],\n",
       "      dtype='object')"
      ]
     },
     "execution_count": 14,
     "metadata": {},
     "output_type": "execute_result"
    }
   ],
   "source": [
    "data2.columns"
   ]
  },
  {
   "cell_type": "code",
   "execution_count": 4,
   "id": "a1e10c1a-d1a0-44d8-a292-120fc9f3d6c6",
   "metadata": {},
   "outputs": [],
   "source": [
    "df=pd.merge(data,data2,how='left',left_on='match_id',right_on='id',left_index=False,right_index=False)"
   ]
  },
  {
   "cell_type": "code",
   "execution_count": 11,
   "id": "364045a8-cf06-47b6-a842-e9013021646a",
   "metadata": {},
   "outputs": [
    {
     "data": {
      "text/plain": [
       "Index(['match_id', 'inning', 'batting_team', 'bowling_team', 'over', 'ball',\n",
       "       'batsman', 'non_striker', 'bowler', 'is_super_over', 'wide_runs',\n",
       "       'bye_runs', 'legbye_runs', 'noball_runs', 'penalty_runs',\n",
       "       'batsman_runs', 'extra_runs', 'total_runs', 'player_dismissed',\n",
       "       'dismissal_kind', 'fielder', 'id', 'season', 'city', 'date', 'team1',\n",
       "       'team2', 'toss_winner', 'toss_decision', 'result', 'dl_applied',\n",
       "       'winner', 'win_by_runs', 'win_by_wickets', 'player_of_match', 'venue',\n",
       "       'umpire1', 'umpire2', 'umpire3'],\n",
       "      dtype='object')"
      ]
     },
     "execution_count": 11,
     "metadata": {},
     "output_type": "execute_result"
    }
   ],
   "source": [
    "df.columns"
   ]
  },
  {
   "cell_type": "code",
   "execution_count": 13,
   "id": "afe2d95d-43c9-4743-acf6-bcf4636d264e",
   "metadata": {},
   "outputs": [
    {
     "data": {
      "text/plain": [
       "(179078, 39)"
      ]
     },
     "execution_count": 13,
     "metadata": {},
     "output_type": "execute_result"
    }
   ],
   "source": [
    "df.shape"
   ]
  },
  {
   "cell_type": "code",
   "execution_count": 16,
   "id": "3faa40fe-e2c3-4ebf-8e2c-949bb0784725",
   "metadata": {},
   "outputs": [
    {
     "data": {
      "text/html": [
       "<div>\n",
       "<style scoped>\n",
       "    .dataframe tbody tr th:only-of-type {\n",
       "        vertical-align: middle;\n",
       "    }\n",
       "\n",
       "    .dataframe tbody tr th {\n",
       "        vertical-align: top;\n",
       "    }\n",
       "\n",
       "    .dataframe thead th {\n",
       "        text-align: right;\n",
       "    }\n",
       "</style>\n",
       "<table border=\"1\" class=\"dataframe\">\n",
       "  <thead>\n",
       "    <tr style=\"text-align: right;\">\n",
       "      <th></th>\n",
       "      <th>match_id</th>\n",
       "      <th>inning</th>\n",
       "      <th>over</th>\n",
       "      <th>ball</th>\n",
       "      <th>is_super_over</th>\n",
       "      <th>wide_runs</th>\n",
       "      <th>bye_runs</th>\n",
       "      <th>legbye_runs</th>\n",
       "      <th>noball_runs</th>\n",
       "      <th>penalty_runs</th>\n",
       "      <th>batsman_runs</th>\n",
       "      <th>extra_runs</th>\n",
       "      <th>total_runs</th>\n",
       "      <th>id</th>\n",
       "      <th>season</th>\n",
       "      <th>dl_applied</th>\n",
       "      <th>win_by_runs</th>\n",
       "      <th>win_by_wickets</th>\n",
       "    </tr>\n",
       "  </thead>\n",
       "  <tbody>\n",
       "    <tr>\n",
       "      <th>count</th>\n",
       "      <td>179078.000000</td>\n",
       "      <td>179078.000000</td>\n",
       "      <td>179078.000000</td>\n",
       "      <td>179078.000000</td>\n",
       "      <td>179078.000000</td>\n",
       "      <td>179078.000000</td>\n",
       "      <td>179078.000000</td>\n",
       "      <td>179078.000000</td>\n",
       "      <td>179078.000000</td>\n",
       "      <td>179078.000000</td>\n",
       "      <td>179078.000000</td>\n",
       "      <td>179078.000000</td>\n",
       "      <td>179078.000000</td>\n",
       "      <td>179078.000000</td>\n",
       "      <td>179078.000000</td>\n",
       "      <td>179078.000000</td>\n",
       "      <td>179078.000000</td>\n",
       "      <td>179078.000000</td>\n",
       "    </tr>\n",
       "    <tr>\n",
       "      <th>mean</th>\n",
       "      <td>1802.252957</td>\n",
       "      <td>1.482952</td>\n",
       "      <td>10.162488</td>\n",
       "      <td>3.615587</td>\n",
       "      <td>0.000452</td>\n",
       "      <td>0.036721</td>\n",
       "      <td>0.004936</td>\n",
       "      <td>0.021136</td>\n",
       "      <td>0.004183</td>\n",
       "      <td>0.000056</td>\n",
       "      <td>1.246864</td>\n",
       "      <td>0.067032</td>\n",
       "      <td>1.313897</td>\n",
       "      <td>1802.252957</td>\n",
       "      <td>2013.444510</td>\n",
       "      <td>0.017914</td>\n",
       "      <td>13.404036</td>\n",
       "      <td>3.261579</td>\n",
       "    </tr>\n",
       "    <tr>\n",
       "      <th>std</th>\n",
       "      <td>3472.322805</td>\n",
       "      <td>0.502074</td>\n",
       "      <td>5.677684</td>\n",
       "      <td>1.806966</td>\n",
       "      <td>0.021263</td>\n",
       "      <td>0.251161</td>\n",
       "      <td>0.116480</td>\n",
       "      <td>0.194908</td>\n",
       "      <td>0.070492</td>\n",
       "      <td>0.016709</td>\n",
       "      <td>1.608270</td>\n",
       "      <td>0.342553</td>\n",
       "      <td>1.605422</td>\n",
       "      <td>3472.322805</td>\n",
       "      <td>3.363947</td>\n",
       "      <td>0.132639</td>\n",
       "      <td>23.261007</td>\n",
       "      <td>3.347033</td>\n",
       "    </tr>\n",
       "    <tr>\n",
       "      <th>min</th>\n",
       "      <td>1.000000</td>\n",
       "      <td>1.000000</td>\n",
       "      <td>1.000000</td>\n",
       "      <td>1.000000</td>\n",
       "      <td>0.000000</td>\n",
       "      <td>0.000000</td>\n",
       "      <td>0.000000</td>\n",
       "      <td>0.000000</td>\n",
       "      <td>0.000000</td>\n",
       "      <td>0.000000</td>\n",
       "      <td>0.000000</td>\n",
       "      <td>0.000000</td>\n",
       "      <td>0.000000</td>\n",
       "      <td>1.000000</td>\n",
       "      <td>2008.000000</td>\n",
       "      <td>0.000000</td>\n",
       "      <td>0.000000</td>\n",
       "      <td>0.000000</td>\n",
       "    </tr>\n",
       "    <tr>\n",
       "      <th>25%</th>\n",
       "      <td>190.000000</td>\n",
       "      <td>1.000000</td>\n",
       "      <td>5.000000</td>\n",
       "      <td>2.000000</td>\n",
       "      <td>0.000000</td>\n",
       "      <td>0.000000</td>\n",
       "      <td>0.000000</td>\n",
       "      <td>0.000000</td>\n",
       "      <td>0.000000</td>\n",
       "      <td>0.000000</td>\n",
       "      <td>0.000000</td>\n",
       "      <td>0.000000</td>\n",
       "      <td>0.000000</td>\n",
       "      <td>190.000000</td>\n",
       "      <td>2011.000000</td>\n",
       "      <td>0.000000</td>\n",
       "      <td>0.000000</td>\n",
       "      <td>0.000000</td>\n",
       "    </tr>\n",
       "    <tr>\n",
       "      <th>50%</th>\n",
       "      <td>379.000000</td>\n",
       "      <td>1.000000</td>\n",
       "      <td>10.000000</td>\n",
       "      <td>4.000000</td>\n",
       "      <td>0.000000</td>\n",
       "      <td>0.000000</td>\n",
       "      <td>0.000000</td>\n",
       "      <td>0.000000</td>\n",
       "      <td>0.000000</td>\n",
       "      <td>0.000000</td>\n",
       "      <td>1.000000</td>\n",
       "      <td>0.000000</td>\n",
       "      <td>1.000000</td>\n",
       "      <td>379.000000</td>\n",
       "      <td>2013.000000</td>\n",
       "      <td>0.000000</td>\n",
       "      <td>0.000000</td>\n",
       "      <td>3.000000</td>\n",
       "    </tr>\n",
       "    <tr>\n",
       "      <th>75%</th>\n",
       "      <td>567.000000</td>\n",
       "      <td>2.000000</td>\n",
       "      <td>15.000000</td>\n",
       "      <td>5.000000</td>\n",
       "      <td>0.000000</td>\n",
       "      <td>0.000000</td>\n",
       "      <td>0.000000</td>\n",
       "      <td>0.000000</td>\n",
       "      <td>0.000000</td>\n",
       "      <td>0.000000</td>\n",
       "      <td>1.000000</td>\n",
       "      <td>0.000000</td>\n",
       "      <td>1.000000</td>\n",
       "      <td>567.000000</td>\n",
       "      <td>2016.000000</td>\n",
       "      <td>0.000000</td>\n",
       "      <td>19.000000</td>\n",
       "      <td>6.000000</td>\n",
       "    </tr>\n",
       "    <tr>\n",
       "      <th>max</th>\n",
       "      <td>11415.000000</td>\n",
       "      <td>5.000000</td>\n",
       "      <td>20.000000</td>\n",
       "      <td>9.000000</td>\n",
       "      <td>1.000000</td>\n",
       "      <td>5.000000</td>\n",
       "      <td>4.000000</td>\n",
       "      <td>5.000000</td>\n",
       "      <td>5.000000</td>\n",
       "      <td>5.000000</td>\n",
       "      <td>7.000000</td>\n",
       "      <td>7.000000</td>\n",
       "      <td>10.000000</td>\n",
       "      <td>11415.000000</td>\n",
       "      <td>2019.000000</td>\n",
       "      <td>1.000000</td>\n",
       "      <td>146.000000</td>\n",
       "      <td>10.000000</td>\n",
       "    </tr>\n",
       "  </tbody>\n",
       "</table>\n",
       "</div>"
      ],
      "text/plain": [
       "            match_id         inning           over           ball  \\\n",
       "count  179078.000000  179078.000000  179078.000000  179078.000000   \n",
       "mean     1802.252957       1.482952      10.162488       3.615587   \n",
       "std      3472.322805       0.502074       5.677684       1.806966   \n",
       "min         1.000000       1.000000       1.000000       1.000000   \n",
       "25%       190.000000       1.000000       5.000000       2.000000   \n",
       "50%       379.000000       1.000000      10.000000       4.000000   \n",
       "75%       567.000000       2.000000      15.000000       5.000000   \n",
       "max     11415.000000       5.000000      20.000000       9.000000   \n",
       "\n",
       "       is_super_over      wide_runs       bye_runs    legbye_runs  \\\n",
       "count  179078.000000  179078.000000  179078.000000  179078.000000   \n",
       "mean        0.000452       0.036721       0.004936       0.021136   \n",
       "std         0.021263       0.251161       0.116480       0.194908   \n",
       "min         0.000000       0.000000       0.000000       0.000000   \n",
       "25%         0.000000       0.000000       0.000000       0.000000   \n",
       "50%         0.000000       0.000000       0.000000       0.000000   \n",
       "75%         0.000000       0.000000       0.000000       0.000000   \n",
       "max         1.000000       5.000000       4.000000       5.000000   \n",
       "\n",
       "         noball_runs   penalty_runs   batsman_runs     extra_runs  \\\n",
       "count  179078.000000  179078.000000  179078.000000  179078.000000   \n",
       "mean        0.004183       0.000056       1.246864       0.067032   \n",
       "std         0.070492       0.016709       1.608270       0.342553   \n",
       "min         0.000000       0.000000       0.000000       0.000000   \n",
       "25%         0.000000       0.000000       0.000000       0.000000   \n",
       "50%         0.000000       0.000000       1.000000       0.000000   \n",
       "75%         0.000000       0.000000       1.000000       0.000000   \n",
       "max         5.000000       5.000000       7.000000       7.000000   \n",
       "\n",
       "          total_runs             id         season     dl_applied  \\\n",
       "count  179078.000000  179078.000000  179078.000000  179078.000000   \n",
       "mean        1.313897    1802.252957    2013.444510       0.017914   \n",
       "std         1.605422    3472.322805       3.363947       0.132639   \n",
       "min         0.000000       1.000000    2008.000000       0.000000   \n",
       "25%         0.000000     190.000000    2011.000000       0.000000   \n",
       "50%         1.000000     379.000000    2013.000000       0.000000   \n",
       "75%         1.000000     567.000000    2016.000000       0.000000   \n",
       "max        10.000000   11415.000000    2019.000000       1.000000   \n",
       "\n",
       "         win_by_runs  win_by_wickets  \n",
       "count  179078.000000   179078.000000  \n",
       "mean       13.404036        3.261579  \n",
       "std        23.261007        3.347033  \n",
       "min         0.000000        0.000000  \n",
       "25%         0.000000        0.000000  \n",
       "50%         0.000000        3.000000  \n",
       "75%        19.000000        6.000000  \n",
       "max       146.000000       10.000000  "
      ]
     },
     "execution_count": 16,
     "metadata": {},
     "output_type": "execute_result"
    }
   ],
   "source": [
    "df.describe()"
   ]
  },
  {
   "cell_type": "code",
   "execution_count": 6,
   "id": "c1783b76-2cf3-4e58-b1c9-92678182519e",
   "metadata": {},
   "outputs": [
    {
     "data": {
      "text/plain": [
       "array([2017, 2008, 2009, 2010, 2011, 2012, 2013, 2014, 2015, 2016, 2018,\n",
       "       2019], dtype=int64)"
      ]
     },
     "execution_count": 6,
     "metadata": {},
     "output_type": "execute_result"
    }
   ],
   "source": [
    "df.season.unique()"
   ]
  },
  {
   "cell_type": "code",
   "execution_count": 7,
   "id": "168204b6-551e-4668-ab0e-4bf6a10f70ca",
   "metadata": {},
   "outputs": [
    {
     "name": "stdout",
     "output_type": "stream",
     "text": [
      "[2008 2009 2010 2011 2012 2013 2014 2015 2016 2017 2018 2019]\n"
     ]
    }
   ],
   "source": [
    "season=df.season.unique()\n",
    "season.sort()\n",
    "print(season)"
   ]
  },
  {
   "cell_type": "code",
   "execution_count": 9,
   "id": "8b2451a5-ba62-4911-acd6-25f47b2ce471",
   "metadata": {},
   "outputs": [
    {
     "data": {
      "text/plain": [
       "Index(['match_id', 'inning', 'batting_team', 'bowling_team', 'over', 'ball',\n",
       "       'batsman', 'non_striker', 'bowler', 'is_super_over', 'wide_runs',\n",
       "       'bye_runs', 'legbye_runs', 'noball_runs', 'penalty_runs',\n",
       "       'batsman_runs', 'extra_runs', 'total_runs', 'player_dismissed',\n",
       "       'dismissal_kind', 'fielder', 'id', 'season', 'city', 'date', 'team1',\n",
       "       'team2', 'toss_winner', 'toss_decision', 'result', 'dl_applied',\n",
       "       'winner', 'win_by_runs', 'win_by_wickets', 'player_of_match', 'venue',\n",
       "       'umpire1', 'umpire2', 'umpire3'],\n",
       "      dtype='object')"
      ]
     },
     "execution_count": 9,
     "metadata": {},
     "output_type": "execute_result"
    }
   ],
   "source": [
    "df.columns"
   ]
  },
  {
   "cell_type": "code",
   "execution_count": 13,
   "id": "75732974-b5bd-44dd-9e33-c6ad1a4bfe10",
   "metadata": {},
   "outputs": [],
   "source": [
    "winners=[]\n",
    "for i in season:\n",
    "    winners.append(data2[data2.season==i].iloc[-1:,-8].values[0])"
   ]
  },
  {
   "cell_type": "code",
   "execution_count": 14,
   "id": "377509f3-d6f6-412b-ae9c-3f102909c177",
   "metadata": {},
   "outputs": [],
   "source": [
    "season_winner=pd.DataFrame({'Season':season,'Winner':winners})"
   ]
  },
  {
   "cell_type": "code",
   "execution_count": 15,
   "id": "3124fdfc-f0b9-43d6-8692-a34018faede9",
   "metadata": {},
   "outputs": [
    {
     "data": {
      "text/html": [
       "<div>\n",
       "<style scoped>\n",
       "    .dataframe tbody tr th:only-of-type {\n",
       "        vertical-align: middle;\n",
       "    }\n",
       "\n",
       "    .dataframe tbody tr th {\n",
       "        vertical-align: top;\n",
       "    }\n",
       "\n",
       "    .dataframe thead th {\n",
       "        text-align: right;\n",
       "    }\n",
       "</style>\n",
       "<table border=\"1\" class=\"dataframe\">\n",
       "  <thead>\n",
       "    <tr style=\"text-align: right;\">\n",
       "      <th></th>\n",
       "      <th>Season</th>\n",
       "      <th>Winner</th>\n",
       "    </tr>\n",
       "  </thead>\n",
       "  <tbody>\n",
       "    <tr>\n",
       "      <th>0</th>\n",
       "      <td>2008</td>\n",
       "      <td>Rajasthan Royals</td>\n",
       "    </tr>\n",
       "    <tr>\n",
       "      <th>1</th>\n",
       "      <td>2009</td>\n",
       "      <td>Deccan Chargers</td>\n",
       "    </tr>\n",
       "    <tr>\n",
       "      <th>2</th>\n",
       "      <td>2010</td>\n",
       "      <td>Chennai Super Kings</td>\n",
       "    </tr>\n",
       "    <tr>\n",
       "      <th>3</th>\n",
       "      <td>2011</td>\n",
       "      <td>Chennai Super Kings</td>\n",
       "    </tr>\n",
       "    <tr>\n",
       "      <th>4</th>\n",
       "      <td>2012</td>\n",
       "      <td>Kolkata Knight Riders</td>\n",
       "    </tr>\n",
       "    <tr>\n",
       "      <th>5</th>\n",
       "      <td>2013</td>\n",
       "      <td>Mumbai Indians</td>\n",
       "    </tr>\n",
       "    <tr>\n",
       "      <th>6</th>\n",
       "      <td>2014</td>\n",
       "      <td>Kolkata Knight Riders</td>\n",
       "    </tr>\n",
       "    <tr>\n",
       "      <th>7</th>\n",
       "      <td>2015</td>\n",
       "      <td>Mumbai Indians</td>\n",
       "    </tr>\n",
       "    <tr>\n",
       "      <th>8</th>\n",
       "      <td>2016</td>\n",
       "      <td>Sunrisers Hyderabad</td>\n",
       "    </tr>\n",
       "    <tr>\n",
       "      <th>9</th>\n",
       "      <td>2017</td>\n",
       "      <td>Mumbai Indians</td>\n",
       "    </tr>\n",
       "    <tr>\n",
       "      <th>10</th>\n",
       "      <td>2018</td>\n",
       "      <td>Chennai Super Kings</td>\n",
       "    </tr>\n",
       "    <tr>\n",
       "      <th>11</th>\n",
       "      <td>2019</td>\n",
       "      <td>Mumbai Indians</td>\n",
       "    </tr>\n",
       "  </tbody>\n",
       "</table>\n",
       "</div>"
      ],
      "text/plain": [
       "    Season                 Winner\n",
       "0     2008       Rajasthan Royals\n",
       "1     2009        Deccan Chargers\n",
       "2     2010    Chennai Super Kings\n",
       "3     2011    Chennai Super Kings\n",
       "4     2012  Kolkata Knight Riders\n",
       "5     2013         Mumbai Indians\n",
       "6     2014  Kolkata Knight Riders\n",
       "7     2015         Mumbai Indians\n",
       "8     2016    Sunrisers Hyderabad\n",
       "9     2017         Mumbai Indians\n",
       "10    2018    Chennai Super Kings\n",
       "11    2019         Mumbai Indians"
      ]
     },
     "execution_count": 15,
     "metadata": {},
     "output_type": "execute_result"
    }
   ],
   "source": [
    "season_winner"
   ]
  },
  {
   "cell_type": "code",
   "execution_count": 16,
   "id": "f9c42f36-5c82-4318-b801-1cbe0f4ba019",
   "metadata": {},
   "outputs": [
    {
     "data": {
      "text/plain": [
       "<AxesSubplot:>"
      ]
     },
     "execution_count": 16,
     "metadata": {},
     "output_type": "execute_result"
    },
    {
     "data": {
      "image/png": "[encoded data removed]",
      "text/plain": [
       "<Figure size 432x288 with 1 Axes>"
      ]
     },
     "metadata": {
      "needs_background": "light"
     },
     "output_type": "display_data"
    }
   ],
   "source": [
    "season_winner['Winner'].value_counts().plot(kind='bar')"
   ]
  },
  {
   "cell_type": "markdown",
   "id": "41ca08fe-08bb-4db6-a93b-b7cf9aa65a75",
   "metadata": {},
   "source": [
    "#### According to Observation Mumbai Indians is most Succesfull team  in the IPL"
   ]
  },
  {
   "cell_type": "markdown",
   "id": "a338489c-027b-439f-a366-8e2a9664ef8e",
   "metadata": {},
   "source": [
    "#### top scorer batsman per season"
   ]
  },
  {
   "cell_type": "code",
   "execution_count": 17,
   "id": "819aa75e-7b70-490d-ba55-4648a7af57a3",
   "metadata": {},
   "outputs": [
    {
     "name": "stdout",
     "output_type": "stream",
     "text": [
      "Season:  2008\n",
      "batsman\n",
      "SE Marsh    616\n",
      "Name: batsman_runs, dtype: int64\n",
      "Season:  2009\n",
      "batsman\n",
      "ML Hayden    572\n",
      "Name: batsman_runs, dtype: int64\n",
      "Season:  2010\n",
      "batsman\n",
      "SR Tendulkar    618\n",
      "Name: batsman_runs, dtype: int64\n",
      "Season:  2011\n",
      "batsman\n",
      "CH Gayle    608\n",
      "Name: batsman_runs, dtype: int64\n",
      "Season:  2012\n",
      "batsman\n",
      "CH Gayle    733\n",
      "Name: batsman_runs, dtype: int64\n",
      "Season:  2013\n",
      "batsman\n",
      "MEK Hussey    733\n",
      "Name: batsman_runs, dtype: int64\n",
      "Season:  2014\n",
      "batsman\n",
      "RV Uthappa    660\n",
      "Name: batsman_runs, dtype: int64\n",
      "Season:  2015\n",
      "batsman\n",
      "DA Warner    562\n",
      "Name: batsman_runs, dtype: int64\n",
      "Season:  2016\n",
      "batsman\n",
      "V Kohli    973\n",
      "Name: batsman_runs, dtype: int64\n",
      "Season:  2017\n",
      "batsman\n",
      "DA Warner    641\n",
      "Name: batsman_runs, dtype: int64\n",
      "Season:  2018\n",
      "batsman\n",
      "KS Williamson    747\n",
      "Name: batsman_runs, dtype: int64\n",
      "Season:  2019\n",
      "batsman\n",
      "DA Warner    727\n",
      "Name: batsman_runs, dtype: int64\n"
     ]
    }
   ],
   "source": [
    "for x in season:\n",
    "    print('Season: ',x)\n",
    "    print(df[df.season==x].groupby('batsman')['batsman_runs'].sum().sort_values(ascending=False).head(1))"
   ]
  },
  {
   "cell_type": "code",
   "execution_count": 20,
   "id": "4352174f-bb13-4903-afdc-41c3d28386d6",
   "metadata": {},
   "outputs": [
    {
     "data": {
      "text/plain": [
       "batsman\n",
       "V Kohli      5434\n",
       "SK Raina     5415\n",
       "RG Sharma    4914\n",
       "DA Warner    4741\n",
       "S Dhawan     4632\n",
       "Name: batsman_runs, dtype: int64"
      ]
     },
     "execution_count": 20,
     "metadata": {},
     "output_type": "execute_result"
    }
   ],
   "source": [
    "df.groupby('batsman')['batsman_runs'].sum().sort_values(ascending=False).head(5)"
   ]
  },
  {
   "cell_type": "code",
   "execution_count": 21,
   "id": "6149fbb2-69e4-40c0-a547-4211a03cc599",
   "metadata": {},
   "outputs": [
    {
     "data": {
      "text/plain": [
       "batsman\n",
       "CH Gayle          327\n",
       "AB de Villiers    214\n",
       "MS Dhoni          207\n",
       "SK Raina          195\n",
       "RG Sharma         194\n",
       "Name: batsman_runs, dtype: int64"
      ]
     },
     "execution_count": 21,
     "metadata": {},
     "output_type": "execute_result"
    }
   ],
   "source": [
    "df[df['batsman_runs']==6].groupby('batsman')['batsman_runs'].count().sort_values(ascending=False).head(5)"
   ]
  },
  {
   "cell_type": "code",
   "execution_count": 31,
   "id": "59f70f1d-663a-4fb4-b638-831346a83c9f",
   "metadata": {},
   "outputs": [
    {
     "data": {
      "text/plain": [
       "batsman\n",
       "S Dhawan     526\n",
       "SK Raina     495\n",
       "G Gambhir    492\n",
       "V Kohli      482\n",
       "DA Warner    459\n",
       "Name: batsman_runs, dtype: int64"
      ]
     },
     "execution_count": 31,
     "metadata": {},
     "output_type": "execute_result"
    }
   ],
   "source": [
    "df[df['batsman_runs']==4].groupby('batsman')['batsman_runs'].count().sort_values(ascending=False).head(5)"
   ]
  },
  {
   "cell_type": "code",
   "execution_count": 34,
   "id": "24756510-d865-41ce-ae3b-315701a8f548",
   "metadata": {},
   "outputs": [
    {
     "data": {
      "text/plain": [
       "batsman\n",
       "AB de Villiers    206.227106\n",
       "AT Rayudu         156.258597\n",
       "KA Pollard        160.119556\n",
       "KD Karthik        155.135773\n",
       "MS Dhoni          163.439153\n",
       "RA Jadeja         131.712963\n",
       "RG Sharma         171.045062\n",
       "V Kohli           175.891759\n",
       "YK Pathan         147.240618\n",
       "Yuvraj Singh      160.593220\n",
       "Name: batsman_runs, dtype: float64"
      ]
     },
     "execution_count": 34,
     "metadata": {},
     "output_type": "execute_result"
    }
   ],
   "source": [
    "df[df['over']>=15].groupby('batsman')['batsman_runs'].sum().sort_values(ascending=False).head(10)/(df[df['over']>=15].groupby('batsman')['batsman_runs'].count().sort_values(ascending=False).head(10))*100"
   ]
  },
  {
   "cell_type": "markdown",
   "id": "44236bb8-b9bd-431b-b2ae-16c6a279f95f",
   "metadata": {},
   "source": [
    "### According to observation the best players is \n",
    "#### Cris Gayle\n",
    "#### Virat kohli\n",
    "#### Ab de Villers\n",
    "#### DA Warner\n",
    "#### S Dawan"
   ]
  },
  {
   "cell_type": "code",
   "execution_count": 38,
   "id": "19829c45-98b1-4d46-bd78-55d8ac015604",
   "metadata": {},
   "outputs": [
    {
     "data": {
      "text/plain": [
       "Index(['match_id', 'inning', 'batting_team', 'bowling_team', 'over', 'ball',\n",
       "       'batsman', 'non_striker', 'bowler', 'is_super_over', 'wide_runs',\n",
       "       'bye_runs', 'legbye_runs', 'noball_runs', 'penalty_runs',\n",
       "       'batsman_runs', 'extra_runs', 'total_runs', 'player_dismissed',\n",
       "       'dismissal_kind', 'fielder', 'id', 'season', 'city', 'date', 'team1',\n",
       "       'team2', 'toss_winner', 'toss_decision', 'result', 'dl_applied',\n",
       "       'winner', 'win_by_runs', 'win_by_wickets', 'player_of_match', 'venue',\n",
       "       'umpire1', 'umpire2', 'umpire3'],\n",
       "      dtype='object')"
      ]
     },
     "execution_count": 38,
     "metadata": {},
     "output_type": "execute_result"
    }
   ],
   "source": [
    "df.columns"
   ]
  },
  {
   "cell_type": "code",
   "execution_count": 22,
   "id": "49522924-06af-4219-b8a2-d2ce3d0701da",
   "metadata": {},
   "outputs": [],
   "source": [
    "df['player_dismissed']=df['player_dismissed'].fillna(0)"
   ]
  },
  {
   "cell_type": "code",
   "execution_count": 23,
   "id": "b6d7c477-645c-4757-9818-ee34669d3cf4",
   "metadata": {},
   "outputs": [],
   "source": [
    "df['wickets']=df[df.dismissal_kind != 'run out']['player_dismissed'].apply(lambda x:1 if x!=0 else x)"
   ]
  },
  {
   "cell_type": "code",
   "execution_count": null,
   "id": "f708a097-ac2c-453d-941e-4054caf5ceb3",
   "metadata": {},
   "outputs": [
    {
     "name": "stdout",
     "output_type": "stream",
     "text": [
      "Season:  2008\n",
      "bowler\n",
      "Sohail Tanvir    22.0\n",
      "Name: wickets, dtype: float64\n",
      "Season:  2009\n",
      "bowler\n",
      "RP Singh    23.0\n",
      "Name: wickets, dtype: float64\n",
      "Season:  2010\n",
      "bowler\n",
      "PP Ojha    21.0\n",
      "Name: wickets, dtype: float64\n",
      "Season:  2011\n",
      "bowler\n",
      "SL Malinga    28.0\n",
      "Name: wickets, dtype: float64\n",
      "Season:  2012\n",
      "bowler\n",
      "M Morkel    25.0\n",
      "Name: wickets, dtype: float64\n",
      "Season:  2013\n",
      "bowler\n",
      "DJ Bravo    32.0\n",
      "Name: wickets, dtype: float64\n",
      "Season:  2014\n",
      "bowler\n",
      "MM Sharma    23.0\n",
      "Name: wickets, dtype: float64\n",
      "Season:  2015\n",
      "bowler\n",
      "DJ Bravo    26.0\n",
      "Name: wickets, dtype: float64\n",
      "Season:  2016\n",
      "bowler\n",
      "B Kumar    23.0\n",
      "Name: wickets, dtype: float64\n",
      "Season:  2017\n",
      "bowler\n",
      "B Kumar    26.0\n",
      "Name: wickets, dtype: float64\n",
      "Season:  2018\n",
      "bowler\n",
      "AJ Tye    24.0\n",
      "Name: wickets, dtype: float64\n",
      "Season:  2019\n",
      "bowler\n",
      "Imran Tahir    26.0\n",
      "Name: wickets, dtype: float64\n"
     ]
    }
   ],
   "source": [
    "for x in season:\n",
    "    print('Season: ',x)\n",
    "    print(df[df.season==x].groupby('bowler')['wickets'].sum().sort_values(ascending=False).head(1))"
   ]
  },
  {
   "cell_type": "code",
   "execution_count": 19,
   "id": "c8d19302-3ae8-4f53-8432-d91e7411cf3e",
   "metadata": {},
   "outputs": [
    {
     "data": {
      "text/plain": [
       "bowler\n",
       "SL Malinga         170.0\n",
       "A Mishra           156.0\n",
       "Harbhajan Singh    150.0\n",
       "PP Chawla          149.0\n",
       "DJ Bravo           147.0\n",
       "Name: wickets, dtype: float64"
      ]
     },
     "execution_count": 19,
     "metadata": {},
     "output_type": "execute_result"
    }
   ],
   "source": [
    "df.groupby('bowler')['wickets'].sum().sort_values(ascending=False).head(5)"
   ]
  },
  {
   "cell_type": "code",
   "execution_count": 26,
   "id": "044e5847-0e21-4402-ae1c-a2b1b444b63c",
   "metadata": {},
   "outputs": [
    {
     "name": "stderr",
     "output_type": "stream",
     "text": [
      "C:\\Users\\BABAR ALI\\AppData\\Local\\Temp\\ipykernel_2860\\1379939041.py:1: FutureWarning: Indexing with multiple keys (implicitly converted to a tuple of keys) will be deprecated, use a list instead.\n",
      "  df.groupby(['match_id','bowler'])['wickets','total_runs'].sum().sort_values(by='wickets' ,ascending=False).head(5)\n"
     ]
    },
    {
     "data": {
      "text/html": [
       "<div>\n",
       "<style scoped>\n",
       "    .dataframe tbody tr th:only-of-type {\n",
       "        vertical-align: middle;\n",
       "    }\n",
       "\n",
       "    .dataframe tbody tr th {\n",
       "        vertical-align: top;\n",
       "    }\n",
       "\n",
       "    .dataframe thead th {\n",
       "        text-align: right;\n",
       "    }\n",
       "</style>\n",
       "<table border=\"1\" class=\"dataframe\">\n",
       "  <thead>\n",
       "    <tr style=\"text-align: right;\">\n",
       "      <th></th>\n",
       "      <th></th>\n",
       "      <th>wickets</th>\n",
       "      <th>total_runs</th>\n",
       "    </tr>\n",
       "    <tr>\n",
       "      <th>match_id</th>\n",
       "      <th>bowler</th>\n",
       "      <th></th>\n",
       "      <th></th>\n",
       "    </tr>\n",
       "  </thead>\n",
       "  <tbody>\n",
       "    <tr>\n",
       "      <th>83</th>\n",
       "      <th>Sohail Tanvir</th>\n",
       "      <td>6.0</td>\n",
       "      <td>15</td>\n",
       "    </tr>\n",
       "    <tr>\n",
       "      <th>616</th>\n",
       "      <th>A Zampa</th>\n",
       "      <td>6.0</td>\n",
       "      <td>19</td>\n",
       "    </tr>\n",
       "    <tr>\n",
       "      <th>11310</th>\n",
       "      <th>A Joseph</th>\n",
       "      <td>6.0</td>\n",
       "      <td>18</td>\n",
       "    </tr>\n",
       "    <tr>\n",
       "      <th>313</th>\n",
       "      <th>RA Jadeja</th>\n",
       "      <td>5.0</td>\n",
       "      <td>16</td>\n",
       "    </tr>\n",
       "    <tr>\n",
       "      <th>13</th>\n",
       "      <th>AJ Tye</th>\n",
       "      <td>5.0</td>\n",
       "      <td>18</td>\n",
       "    </tr>\n",
       "  </tbody>\n",
       "</table>\n",
       "</div>"
      ],
      "text/plain": [
       "                        wickets  total_runs\n",
       "match_id bowler                            \n",
       "83       Sohail Tanvir      6.0          15\n",
       "616      A Zampa            6.0          19\n",
       "11310    A Joseph           6.0          18\n",
       "313      RA Jadeja          5.0          16\n",
       "13       AJ Tye             5.0          18"
      ]
     },
     "execution_count": 26,
     "metadata": {},
     "output_type": "execute_result"
    }
   ],
   "source": [
    "df.groupby(['match_id','bowler'])['wickets','total_runs'].sum().sort_values(by='wickets' ,ascending=False).head(5)"
   ]
  },
  {
   "cell_type": "markdown",
   "id": "f349c6f6-f095-4c01-93f3-0f82ab4421ba",
   "metadata": {},
   "source": [
    "### According to Observation the best Bowler are:\n",
    "#### Sohail Tanverr\n",
    "#### SL Malinga\n",
    "####  B Kumar"
   ]
  },
  {
   "cell_type": "code",
   "execution_count": 28,
   "id": "c6eda398-0193-427c-b199-c7319ac186a2",
   "metadata": {},
   "outputs": [],
   "source": [
    "df['home']=np.where(df['team1']==df['winner'],1,0)"
   ]
  },
  {
   "cell_type": "code",
   "execution_count": 38,
   "id": "6829da59-2464-4c52-9d45-cb0d39488104",
   "metadata": {},
   "outputs": [
    {
     "data": {
      "image/png": "[encoded data removed]",
      "text/plain": [
       "<Figure size 432x288 with 1 Axes>"
      ]
     },
     "metadata": {},
     "output_type": "display_data"
    }
   ],
   "source": [
    "df.home.value_counts(normalize=True).plot(kind='pie',autopct='%.1f',labels=['Home','Away'])\n",
    "plt.show()"
   ]
  },
  {
   "cell_type": "markdown",
   "id": "23d72946-4d41-42b1-ae77-1b753c46bc1a",
   "metadata": {},
   "source": [
    "##### "
   ]
  },
  {
   "cell_type": "markdown",
   "id": "34607459-4aaf-4487-b49d-45cdf97386c8",
   "metadata": {},
   "source": [
    "### Accordin to Observation The team which play at home Win 54.4% of matches at Home  and \n",
    "### the team who not play at  Home Ground Win 45.6% of matches \n",
    "### It does not Effect much More on Home Ground to win "
   ]
  },
  {
   "cell_type": "code",
   "execution_count": 39,
   "id": "3f376b89-97e2-4883-8296-6c160faa24c4",
   "metadata": {},
   "outputs": [
    {
     "data": {
      "text/plain": [
       "field    109222\n",
       "bat       69856\n",
       "Name: toss_decision, dtype: int64"
      ]
     },
     "execution_count": 39,
     "metadata": {},
     "output_type": "execute_result"
    }
   ],
   "source": [
    "df.toss_decision.value_counts()"
   ]
  },
  {
   "cell_type": "code",
   "execution_count": null,
   "id": "68512fb4-40db-4966-a5b8-65d07d52ae9f",
   "metadata": {},
   "outputs": [
    {
     "data": {
      "text/plain": [
       "0.5503469996887074"
      ]
     },
     "execution_count": 40,
     "metadata": {},
     "output_type": "execute_result"
    }
   ],
   "source": [
    "df[(df.toss_decision=='field') & (df.toss_winner==df.winner)].shape[0]/df[df.toss_decision=='field'].shape[0]"
   ]
  },
  {
   "cell_type": "code",
   "execution_count": 41,
   "id": "630879cd-9701-4ea4-8f9d-8bf300e8e84e",
   "metadata": {},
   "outputs": [
    {
     "data": {
      "text/plain": [
       "0.46959459459459457"
      ]
     },
     "execution_count": 41,
     "metadata": {},
     "output_type": "execute_result"
    }
   ],
   "source": [
    "df[(df.toss_decision=='bat') & (df.toss_winner==df.winner)].shape[0]/df[df.toss_decision=='bat'].shape[0]"
   ]
  },
  {
   "cell_type": "markdown",
   "id": "a2e04503-1e02-4895-92dc-6faf3a1e496f",
   "metadata": {},
   "source": [
    "### According to Above Observation the team who select the Field which After winning toss \n",
    "### they win more matches than who that select bat first after winning toss"
   ]
  },
  {
   "cell_type": "markdown",
   "id": "141cea05-3ec4-46ef-90ce-5020ae874242",
   "metadata": {},
   "source": [
    "# Inference"
   ]
  },
  {
   "cell_type": "markdown",
   "id": "58455dfd-15fb-4b4c-b533-6c98fae8931f",
   "metadata": {},
   "source": [
    "#### Suggest teams or players a company  should endorse for its products "
   ]
  },
  {
   "cell_type": "markdown",
   "id": "767954b4-a25f-4b36-b65e-9b04e7bd97bf",
   "metadata": {},
   "source": [
    "#### Mumbia indian is most Succesfull team \n",
    "#### RCB is most popular team for its player\n",
    "##### Cris Gale\n",
    "##### Ab de Villers\n",
    "##### Virat Kohli\n",
    "#### the should good for endorse Company Products"
   ]
  },
  {
   "cell_type": "markdown",
   "id": "b7ec78fa-6212-4b16-a1ad-7e382802986c",
   "metadata": {},
   "source": [
    "#                THE END"
   ]
  },
  {
   "cell_type": "markdown",
   "id": "d802c3c3-23a2-4402-aa19-7bf3dde672fb",
   "metadata": {},
   "source": [
    "# Thanks For Watchting"
   ]
  },
  {
   "cell_type": "code",
   "execution_count": null,
   "id": "9e49023f-c83d-486c-afac-8a4ae2ab8448",
   "metadata": {},
   "outputs": [],
   "source": []
  }
 ],
 "metadata": {
  "kernelspec": {
   "display_name": "Python 3 (ipykernel)",
   "language": "python",
   "name": "python3"
  },
  "language_info": {
   "codemirror_mode": {
    "name": "ipython",
    "version": 3
   },
   "file_extension": ".py",
   "mimetype": "text/x-python",
   "name": "python",
   "nbconvert_exporter": "python",
   "pygments_lexer": "ipython3",
   "version": "3.8.5"
  }
 },
 "nbformat": 4,
 "nbformat_minor": 5
}
